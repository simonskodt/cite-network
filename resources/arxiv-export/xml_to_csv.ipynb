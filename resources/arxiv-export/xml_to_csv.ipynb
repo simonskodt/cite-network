{
 "cells": [
  {
   "cell_type": "markdown",
   "metadata": {},
   "source": [
    "# XML to CSV\n",
    "\n",
    "To receive some data entries to work with in the database, I use [https://export.arxiv.org](https://export.arxiv.org) via the query endpoint.\n",
    "\n",
    "The query: [https://export.arxiv.org/api/query?search_query=cat:cs.*&start=0&max_results=300&sortBy=submittedDate&sortOrder=descending\n",
    "](https://export.arxiv.org/api/query?search_query=cat:cs.*&start=0&max_results=300&sortBy=submittedDate&sortOrder=descending\n",
    ")."
   ]
  },
  {
   "cell_type": "code",
   "execution_count": 62,
   "metadata": {},
   "outputs": [],
   "source": [
    "import os, ssl\n",
    "import urllib, urllib.request\n",
    "\n",
    "# Ignores certificate verification for now\n",
    "ctx = ssl._create_unverified_context()\n",
    "\n",
    "url = \"https://export.arxiv.org/api/query?search_query=cat:cs.*&start=0&max_results=50&sortBy=submittedDate&sortOrder=descending\"\n",
    "data = urllib.request.urlopen(url, context=ctx)\n",
    "content = data.read().decode('utf-8')\n",
    "\n",
    "XML_PATH = 'arxiv_papers.xml'\n",
    "\n",
    "if os.path.exists(XML_PATH):\n",
    "    os.remove(XML_PATH)\n",
    "\n",
    "with open(XML_PATH, 'w') as file:\n",
    "    file.write(content)"
   ]
  },
  {
   "cell_type": "code",
   "execution_count": 63,
   "metadata": {},
   "outputs": [],
   "source": [
    "import xml.etree.ElementTree as ET\n",
    "import csv\n",
    "\n",
    "XML_PATH = 'arxiv_papers.xml'\n",
    "CSV_PATH = 'arxiv_papers.csv'\n",
    "\n",
    "tree = ET.parse(XML_PATH)\n",
    "root = tree.getroot()\n",
    "\n",
    "if os.path.exists(CSV_PATH):\n",
    "    os.remove(CSV_PATH)\n",
    "\n",
    "with open(CSV_PATH, 'w', newline='') as csvfile:\n",
    "    csvwriter = csv.writer(csvfile)\n",
    "    \n",
    "    csvwriter.writerow(['title', 'author', 'published'])\n",
    "    \n",
    "    for entry in root.findall('{http://www.w3.org/2005/Atom}entry'):\n",
    "        title = entry.find('{http://www.w3.org/2005/Atom}title').text\n",
    "        author = ', '.join([author.find('{http://www.w3.org/2005/Atom}name').text for author in entry.findall('{http://www.w3.org/2005/Atom}author')])\n",
    "        published = entry.find('{http://www.w3.org/2005/Atom}published').text\n",
    "        \n",
    "        csvwriter.writerow([title, author, published])"
   ]
  },
  {
   "cell_type": "code",
   "execution_count": 50,
   "metadata": {},
   "outputs": [
    {
     "name": "stdout",
     "output_type": "stream",
     "text": [
      "Requirement already satisfied: arxiv in /Library/Frameworks/Python.framework/Versions/3.11/lib/python3.11/site-packages (2.1.3)\n",
      "Requirement already satisfied: feedparser~=6.0.10 in /Library/Frameworks/Python.framework/Versions/3.11/lib/python3.11/site-packages (from arxiv) (6.0.11)\n",
      "Requirement already satisfied: requests~=2.32.0 in /Library/Frameworks/Python.framework/Versions/3.11/lib/python3.11/site-packages (from arxiv) (2.32.3)\n",
      "Requirement already satisfied: sgmllib3k in /Library/Frameworks/Python.framework/Versions/3.11/lib/python3.11/site-packages (from feedparser~=6.0.10->arxiv) (1.0.0)\n",
      "Requirement already satisfied: charset-normalizer<4,>=2 in /Library/Frameworks/Python.framework/Versions/3.11/lib/python3.11/site-packages (from requests~=2.32.0->arxiv) (3.3.2)\n",
      "Requirement already satisfied: idna<4,>=2.5 in /Library/Frameworks/Python.framework/Versions/3.11/lib/python3.11/site-packages (from requests~=2.32.0->arxiv) (3.7)\n",
      "Requirement already satisfied: urllib3<3,>=1.21.1 in /Library/Frameworks/Python.framework/Versions/3.11/lib/python3.11/site-packages (from requests~=2.32.0->arxiv) (2.2.1)\n",
      "Requirement already satisfied: certifi>=2017.4.17 in /Library/Frameworks/Python.framework/Versions/3.11/lib/python3.11/site-packages (from requests~=2.32.0->arxiv) (2024.2.2)\n",
      "Note: you may need to restart the kernel to use updated packages.\n"
     ]
    },
    {
     "name": "stderr",
     "output_type": "stream",
     "text": [
      "/var/folders/xh/1k7xrdlj14v_t7r8cj2v4q7m0000gn/T/ipykernel_8657/3661450599.py:11: DeprecationWarning: The 'Search.results' method is deprecated, use 'Client.results' instead\n",
      "  results = list(search.results())\n"
     ]
    },
    {
     "name": "stdout",
     "output_type": "stream",
     "text": [
      "No results found for the search query.\n"
     ]
    },
    {
     "name": "stderr",
     "output_type": "stream",
     "text": [
      "/var/folders/xh/1k7xrdlj14v_t7r8cj2v4q7m0000gn/T/ipykernel_8657/3661450599.py:27: DeprecationWarning: The 'Search.results' method is deprecated, use 'Client.results' instead\n",
      "  for paper in search.results():\n"
     ]
    },
    {
     "name": "stdout",
     "output_type": "stream",
     "text": [
      "Data fetched and saved to arxiv_papers.csv\n"
     ]
    }
   ],
   "source": [
    "%pip install arxiv\n",
    "import arxiv\n",
    "import csv\n",
    "\n",
    "# Set up the search query\n",
    "search = arxiv.Search(\n",
    "    max_results = 300,\n",
    ")\n",
    "\n",
    "# Check if the search returns results\n",
    "results = list(search.results())\n",
    "if not results:\n",
    "    print(\"No results found for the search query.\")\n",
    "else:\n",
    "    print(f\"Found {len(results)} results.\")\n",
    "\n",
    "\n",
    "if os.path.exists('arxiv_papers.csv'):\n",
    "    os.remove('arxiv_papers.csv')\n",
    "\n",
    "# Prepare CSV file\n",
    "with open('arxiv_papers.csv', 'w', newline='', encoding='utf-8') as file:\n",
    "    writer = csv.writer(file)\n",
    "    writer.writerow(['Title', 'Authors', 'Published', 'DOI', 'Abstract'])\n",
    "\n",
    "    # Fetch and write papers\n",
    "    for paper in search.results():\n",
    "        authors = ', '.join([author.name for author in paper.authors])\n",
    "        writer.writerow([\n",
    "            paper.title,\n",
    "            authors,\n",
    "            paper.published.strftime('%Y-%m-%d'),\n",
    "            paper.doi or 'N/A',\n",
    "            paper.summary.replace('\\n', ' ')\n",
    "        ])\n",
    "\n",
    "print(\"Data fetched and saved to arxiv_papers.csv\")"
   ]
  }
 ],
 "metadata": {
  "kernelspec": {
   "display_name": "Python 3",
   "language": "python",
   "name": "python3"
  },
  "language_info": {
   "codemirror_mode": {
    "name": "ipython",
    "version": 3
   },
   "file_extension": ".py",
   "mimetype": "text/x-python",
   "name": "python",
   "nbconvert_exporter": "python",
   "pygments_lexer": "ipython3",
   "version": "3.11.9"
  }
 },
 "nbformat": 4,
 "nbformat_minor": 2
}
