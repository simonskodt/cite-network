{
 "cells": [
  {
   "cell_type": "markdown",
   "metadata": {},
   "source": [
    "# XML to CSV\n",
    "\n",
    "To receive some data entries to work with in the database, I use [https://export.arxiv.org](https://export.arxiv.org) via the query endpoint."
   ]
  },
  {
   "cell_type": "code",
   "execution_count": 1,
   "metadata": {},
   "outputs": [],
   "source": [
    "n_entries = 300\n",
    "\n",
    "url = f\"\"\"\n",
    "    https://export.arxiv.org/api/query?search_query=cat:cs.*&\n",
    "    start=0&\n",
    "    max_results={n_entries}&\n",
    "    sortBy=submittedDate&\n",
    "    sortOrder=descending\n",
    "\"\"\"\n",
    "\n",
    "# Write the content of the url query to a file\n",
    "import requests\n",
    "\n",
    "response = requests.get(url)\n",
    "with open('arxiv_papers.xml', 'w') as file:\n",
    "    file.write(response.text)"
   ]
  },
  {
   "cell_type": "code",
   "execution_count": 2,
   "metadata": {},
   "outputs": [],
   "source": [
    "import xml.etree.ElementTree as ET\n",
    "import csv\n",
    "\n",
    "# Parse the XML file\n",
    "tree = ET.parse('arxiv_papers.xml')\n",
    "root = tree.getroot()\n",
    "\n",
    "# Open a new CSV file to write\n",
    "with open('arxiv_papers.csv', 'w', newline='') as csvfile:\n",
    "    csvwriter = csv.writer(csvfile)\n",
    "    \n",
    "    # Write header\n",
    "    csvwriter.writerow(['title', 'author', 'summary', 'published'])\n",
    "    \n",
    "    # Extract data\n",
    "    for entry in root.findall('{http://www.w3.org/2005/Atom}entry'):\n",
    "        title = entry.find('{http://www.w3.org/2005/Atom}title').text\n",
    "        author = ', '.join([author.find('{http://www.w3.org/2005/Atom}name').text for author in entry.findall('{http://www.w3.org/2005/Atom}author')])\n",
    "        summary = entry.find('{http://www.w3.org/2005/Atom}summary').text\n",
    "        published = entry.find('{http://www.w3.org/2005/Atom}published').text\n",
    "        \n",
    "        # Write row to CSV\n",
    "        csvwriter.writerow([title, author, summary, published])"
   ]
  }
 ],
 "metadata": {
  "kernelspec": {
   "display_name": "Python 3",
   "language": "python",
   "name": "python3"
  },
  "language_info": {
   "codemirror_mode": {
    "name": "ipython",
    "version": 3
   },
   "file_extension": ".py",
   "mimetype": "text/x-python",
   "name": "python",
   "nbconvert_exporter": "python",
   "pygments_lexer": "ipython3",
   "version": "3.11.9"
  }
 },
 "nbformat": 4,
 "nbformat_minor": 2
}
