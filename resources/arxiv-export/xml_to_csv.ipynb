{
 "cells": [
  {
   "cell_type": "markdown",
   "metadata": {},
   "source": [
    "# XML to CSV\n",
    "\n",
    "To receive some data entries to work with in the database, I use [https://export.arxiv.org](https://export.arxiv.org) via the query endpoint.\n",
    "\n",
    "The query: [https://export.arxiv.org/api/query?search_query=cat:cs.*&start=0&max_results=300&sortBy=submittedDate&sortOrder=descending\n",
    "](https://export.arxiv.org/api/query?search_query=cat:cs.*&start=0&max_results=300&sortBy=submittedDate&sortOrder=descending\n",
    ")."
   ]
  },
  {
   "cell_type": "code",
   "execution_count": 17,
   "metadata": {},
   "outputs": [],
   "source": [
    "import requests, os\n",
    "\n",
    "n_entries = 100\n",
    "batch_size = 10 # break-down process to get 10 items at the time\n",
    "file_path = 'arxiv_papers.xml'\n",
    "\n",
    "# Write the content of the url query to a file\n",
    "response = requests.get(url)\n",
    "\n",
    "# Check if the file exists and overwrite it\n",
    "if os.path.exists(file_path):\n",
    "    os.remove(file_path)\n",
    "\n",
    "with open(file_path, 'w') as file:\n",
    "    for start in range(0, n_entries, batch_size):\n",
    "        url = f\"\"\"\n",
    "            https://export.arxiv.org/api/query?search_query=cat:cs.*&\n",
    "            start={start}&\n",
    "            max_results={batch_size}&\n",
    "            sortBy=submittedDate&\n",
    "            sortOrder=descending\n",
    "        \"\"\"\n",
    "        response = requests.get(url)\n",
    "        file.write(response.text)\n",
    "\n",
    "\n"
   ]
  },
  {
   "cell_type": "code",
   "execution_count": 2,
   "metadata": {},
   "outputs": [],
   "source": [
    "import xml.etree.ElementTree as ET\n",
    "import csv\n",
    "\n",
    "# Parse the XML file\n",
    "tree = ET.parse('arxiv_papers.xml')\n",
    "root = tree.getroot()\n",
    "\n",
    "# Open a new CSV file to write\n",
    "with open('arxiv_papers.csv', 'w', newline='') as csvfile:\n",
    "    csvwriter = csv.writer(csvfile)\n",
    "    \n",
    "    # Write header\n",
    "    csvwriter.writerow(['title', 'author', 'summary', 'published'])\n",
    "    \n",
    "    # Extract data\n",
    "    for entry in root.findall('{http://www.w3.org/2005/Atom}entry'):\n",
    "        title = entry.find('{http://www.w3.org/2005/Atom}title').text\n",
    "        author = ', '.join([author.find('{http://www.w3.org/2005/Atom}name').text for author in entry.findall('{http://www.w3.org/2005/Atom}author')])\n",
    "        summary = entry.find('{http://www.w3.org/2005/Atom}summary').text\n",
    "        published = entry.find('{http://www.w3.org/2005/Atom}published').text\n",
    "        \n",
    "        # Write row to CSV\n",
    "        csvwriter.writerow([title, author, summary, published])"
   ]
  }
 ],
 "metadata": {
  "kernelspec": {
   "display_name": "Python 3",
   "language": "python",
   "name": "python3"
  },
  "language_info": {
   "codemirror_mode": {
    "name": "ipython",
    "version": 3
   },
   "file_extension": ".py",
   "mimetype": "text/x-python",
   "name": "python",
   "nbconvert_exporter": "python",
   "pygments_lexer": "ipython3",
   "version": "3.11.9"
  }
 },
 "nbformat": 4,
 "nbformat_minor": 2
}
