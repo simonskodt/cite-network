{
 "cells": [
  {
   "cell_type": "markdown",
   "metadata": {},
   "source": [
    "# XML to CSV\n",
    "\n",
    "To receive some data entries to work with in the database, I use [https://export.arxiv.org](https://export.arxiv.org) via the query endpoint.\n",
    "\n",
    "The query: [https://export.arxiv.org/api/query?search_query=cat:cs.*&start=0&max_results=300&sortBy=submittedDate&sortOrder=descending](https://export.arxiv.org/api/query?search_query=cat:cs.*&start=0&max_results=300&sortBy=submittedDate&sortOrder=descending\n",
    ")."
   ]
  },
  {
   "cell_type": "code",
   "execution_count": 64,
   "metadata": {},
   "outputs": [],
   "source": [
    "import os, ssl\n",
    "import urllib, urllib.request\n",
    "\n",
    "# Ignores certificate verification for now\n",
    "ctx = ssl._create_unverified_context()\n",
    "\n",
    "url = \"https://export.arxiv.org/api/query?search_query=cat:cs.*&start=0&max_results=200&sortBy=submittedDate&sortOrder=descending\"\n",
    "data = urllib.request.urlopen(url, context=ctx)\n",
    "content = data.read().decode('utf-8')\n",
    "\n",
    "XML_PATH = 'arxiv_papers.xml'\n",
    "\n",
    "if os.path.exists(XML_PATH):\n",
    "    os.remove(XML_PATH)\n",
    "\n",
    "with open(XML_PATH, 'w') as file:\n",
    "    file.write(content)"
   ]
  },
  {
   "cell_type": "code",
   "execution_count": 65,
   "metadata": {},
   "outputs": [],
   "source": [
    "import xml.etree.ElementTree as ET\n",
    "import csv\n",
    "\n",
    "XML_PATH = 'arxiv_papers.xml'\n",
    "CSV_PATH = 'arxiv_papers.csv'\n",
    "\n",
    "tree = ET.parse(XML_PATH)\n",
    "root = tree.getroot()\n",
    "\n",
    "if os.path.exists(CSV_PATH):\n",
    "    os.remove(CSV_PATH)\n",
    "\n",
    "with open(CSV_PATH, 'w', newline='') as csvfile:\n",
    "    csvwriter = csv.writer(csvfile)\n",
    "    \n",
    "    csvwriter.writerow(['title', 'author', 'published'])\n",
    "    \n",
    "    for entry in root.findall('{http://www.w3.org/2005/Atom}entry'):\n",
    "        title = entry.find('{http://www.w3.org/2005/Atom}title').text\n",
    "        author = ', '.join([author.find('{http://www.w3.org/2005/Atom}name').text for author in entry.findall('{http://www.w3.org/2005/Atom}author')])\n",
    "        published = entry.find('{http://www.w3.org/2005/Atom}published').text\n",
    "        \n",
    "        csvwriter.writerow([title, author, published])"
   ]
  }
 ],
 "metadata": {
  "kernelspec": {
   "display_name": "Python 3",
   "language": "python",
   "name": "python3"
  },
  "language_info": {
   "codemirror_mode": {
    "name": "ipython",
    "version": 3
   },
   "file_extension": ".py",
   "mimetype": "text/x-python",
   "name": "python",
   "nbconvert_exporter": "python",
   "pygments_lexer": "ipython3",
   "version": "3.11.9"
  }
 },
 "nbformat": 4,
 "nbformat_minor": 2
}
